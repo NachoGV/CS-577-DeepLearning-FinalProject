{
 "cells": [
  {
   "cell_type": "code",
   "execution_count": 2,
   "metadata": {},
   "outputs": [],
   "source": [
    "import os\n",
    "import numpy as np\n",
    "import pandas as pd\n",
    "import matplotlib.pyplot as plt"
   ]
  },
  {
   "cell_type": "code",
   "execution_count": 11,
   "metadata": {},
   "outputs": [
    {
     "name": "stdout",
     "output_type": "stream",
     "text": [
      "Total Class Labels in ExDark Dataset: 12\n",
      "Class labels: ['Bicycle', 'Boat', 'Bottle', 'Bus', 'Car', 'Cat', 'Chair', 'Cup', 'Dog', 'Motorbike', 'People', 'Table']\n"
     ]
    }
   ],
   "source": [
    "path = \"ExDark_Annno/ExDark_Annno\"\n",
    "print(f\"Total Class Labels in ExDark Dataset: {len(os.listdir(path))}\")\n",
    "print(F\"Class labels: {os.listdir(path)}\")"
   ]
  },
  {
   "cell_type": "code",
   "execution_count": 17,
   "metadata": {},
   "outputs": [
    {
     "name": "stdout",
     "output_type": "stream",
     "text": [
      "Total number of images in class Bicycle: 652\n",
      "Total number of images in class Boat: 679\n",
      "Total number of images in class Bottle: 547\n",
      "Total number of images in class Bus: 527\n",
      "Total number of images in class Car: 638\n",
      "Total number of images in class Cat: 735\n",
      "Total number of images in class Chair: 648\n",
      "Total number of images in class Cup: 519\n",
      "Total number of images in class Dog: 801\n",
      "Total number of images in class Motorbike: 503\n",
      "Total number of images in class People: 609\n",
      "Total number of images in class Table: 505\n",
      "Total number of images: 7363\n"
     ]
    }
   ],
   "source": [
    "tot_count = 0\n",
    "\n",
    "for i in os.listdir(path):\n",
    "    class_img_count = 0\n",
    "    for j in os.listdir(f\"{path}/{i}\"):\n",
    "        tot_count += 1\n",
    "        class_img_count += 1\n",
    "    print(f\"Total number of images in class {i}: {class_img_count}\")\n",
    "    \n",
    "print(f\"Total number of images in all classes: {tot_count}\")"
   ]
  },
  {
   "cell_type": "code",
   "execution_count": 78,
   "metadata": {},
   "outputs": [],
   "source": [
    "train_imgs = []\n",
    "valid_imgs = []\n",
    "test_imgs = []\n",
    "\n",
    "for i in os.listdir(path):\n",
    "    class_list = os.listdir(f\"{path}/{i}\")\n",
    "    train_imgs.append([i, np.array(class_list[:250])])\n",
    "    valid_imgs.append([i, np.array(class_list[250: 400])])\n",
    "    test_imgs.append([i, np.array(class_list[400:])])"
   ]
  },
  {
   "cell_type": "code",
   "execution_count": 125,
   "metadata": {},
   "outputs": [
    {
     "name": "stdout",
     "output_type": "stream",
     "text": [
      "['Bicycle', '370', '140', '143', '144']\n",
      "['People', '377', '72', '103', '159']\n"
     ]
    }
   ],
   "source": [
    "file_path = \"ExDark_Annno/ExDark_Annno/Bicycle/2015_00108.jpg.txt\"\n",
    "img_list = []\n",
    "with open(file_path) as f:\n",
    "    lines = f.readlines()\n",
    "    for i in lines[1:]:\n",
    "        print(i.split(\" \")[:5])\n",
    "        img_list.append([\"2015_00108.jpg\"] + i.split(\" \")[:5])"
   ]
  },
  {
   "cell_type": "code",
   "execution_count": 139,
   "metadata": {},
   "outputs": [],
   "source": [
    "train_data = []\n",
    "for class_wise_train_imgs in train_imgs:\n",
    "    class_label = class_wise_train_imgs[0]\n",
    "    for annot in class_wise_train_imgs[1]:\n",
    "        file_path = f\"{path}/{class_label}/{annot}\"\n",
    "        img_list = []\n",
    "        with open(file_path) as f:\n",
    "            lines = f.readlines()\n",
    "            for i in lines[1:]:\n",
    "                img_list.append([annot[:-4]] + i.split(\" \")[:5])\n",
    "        train_data.extend(img_list)\n",
    "\n",
    "valid_data = []\n",
    "for class_wise_valid_imgs in valid_imgs:\n",
    "    class_label = class_wise_valid_imgs[0]\n",
    "    for annot in class_wise_valid_imgs[1]:\n",
    "        file_path = f\"{path}/{class_label}/{annot}\"\n",
    "        img_list = []\n",
    "        with open(file_path) as f:\n",
    "            lines = f.readlines()\n",
    "            for i in lines[1:]:\n",
    "                img_list.append([annot[:-4]] + i.split(\" \")[:5])\n",
    "        valid_data.extend(img_list)\n",
    "\n",
    "test_data = []\n",
    "for class_wise_test_imgs in test_imgs:\n",
    "    class_label = class_wise_test_imgs[0]\n",
    "    for annot in class_wise_test_imgs[1]:\n",
    "        file_path = f\"{path}/{class_label}/{annot}\"\n",
    "        # print(file_path)\n",
    "        img_list = []\n",
    "        with open(file_path) as f:\n",
    "            lines = f.readlines()\n",
    "            for i in lines[1:]:\n",
    "                img_list.append([annot[:-4]] + i.split(\" \")[:5])\n",
    "        test_data.extend(img_list)"
   ]
  },
  {
   "cell_type": "code",
   "execution_count": 142,
   "metadata": {},
   "outputs": [
    {
     "data": {
      "text/html": [
       "<div>\n",
       "<style scoped>\n",
       "    .dataframe tbody tr th:only-of-type {\n",
       "        vertical-align: middle;\n",
       "    }\n",
       "\n",
       "    .dataframe tbody tr th {\n",
       "        vertical-align: top;\n",
       "    }\n",
       "\n",
       "    .dataframe thead th {\n",
       "        text-align: right;\n",
       "    }\n",
       "</style>\n",
       "<table border=\"1\" class=\"dataframe\">\n",
       "  <thead>\n",
       "    <tr style=\"text-align: right;\">\n",
       "      <th></th>\n",
       "      <th>Image_id</th>\n",
       "      <th>Label</th>\n",
       "      <th>x1</th>\n",
       "      <th>y1</th>\n",
       "      <th>w</th>\n",
       "      <th>h</th>\n",
       "    </tr>\n",
       "  </thead>\n",
       "  <tbody>\n",
       "    <tr>\n",
       "      <th>0</th>\n",
       "      <td>2015_00001.png</td>\n",
       "      <td>Bicycle</td>\n",
       "      <td>204</td>\n",
       "      <td>28</td>\n",
       "      <td>271</td>\n",
       "      <td>193</td>\n",
       "    </tr>\n",
       "    <tr>\n",
       "      <th>1</th>\n",
       "      <td>2015_00002.png</td>\n",
       "      <td>Bicycle</td>\n",
       "      <td>136</td>\n",
       "      <td>190</td>\n",
       "      <td>79</td>\n",
       "      <td>109</td>\n",
       "    </tr>\n",
       "    <tr>\n",
       "      <th>2</th>\n",
       "      <td>2015_00002.png</td>\n",
       "      <td>Bicycle</td>\n",
       "      <td>219</td>\n",
       "      <td>172</td>\n",
       "      <td>63</td>\n",
       "      <td>131</td>\n",
       "    </tr>\n",
       "    <tr>\n",
       "      <th>3</th>\n",
       "      <td>2015_00002.png</td>\n",
       "      <td>Bicycle</td>\n",
       "      <td>277</td>\n",
       "      <td>188</td>\n",
       "      <td>76</td>\n",
       "      <td>124</td>\n",
       "    </tr>\n",
       "    <tr>\n",
       "      <th>4</th>\n",
       "      <td>2015_00002.png</td>\n",
       "      <td>Bicycle</td>\n",
       "      <td>348</td>\n",
       "      <td>183</td>\n",
       "      <td>57</td>\n",
       "      <td>81</td>\n",
       "    </tr>\n",
       "  </tbody>\n",
       "</table>\n",
       "</div>"
      ],
      "text/plain": [
       "         Image_id    Label   x1   y1    w    h\n",
       "0  2015_00001.png  Bicycle  204   28  271  193\n",
       "1  2015_00002.png  Bicycle  136  190   79  109\n",
       "2  2015_00002.png  Bicycle  219  172   63  131\n",
       "3  2015_00002.png  Bicycle  277  188   76  124\n",
       "4  2015_00002.png  Bicycle  348  183   57   81"
      ]
     },
     "execution_count": 142,
     "metadata": {},
     "output_type": "execute_result"
    }
   ],
   "source": [
    "train_data = pd.DataFrame(train_data, columns = [\"Image_id\", \"Label\", \"x1\", \"y1\", \"w\", \"h\"])\n",
    "valid_data = pd.DataFrame(valid_data, columns = [\"Image_id\", \"Label\", \"x1\", \"y1\", \"w\", \"h\"])\n",
    "test_data = pd.DataFrame(test_data, columns = [\"Image_id\", \"Label\", \"x1\", \"y1\", \"w\", \"h\"])\n",
    "\n",
    "train_data.head(5)"
   ]
  },
  {
   "cell_type": "code",
   "execution_count": 147,
   "metadata": {},
   "outputs": [],
   "source": [
    "train_data.to_excel(\"exdark_train.xlsx\", index=False)\n",
    "valid_data.to_excel(\"exdark_validation.xlsx\", index=False)\n",
    "test_data.to_excel(\"exdark_test.xlsx\", index=False)"
   ]
  },
  {
   "cell_type": "code",
   "execution_count": null,
   "metadata": {},
   "outputs": [],
   "source": []
  }
 ],
 "metadata": {
  "kernelspec": {
   "display_name": "Python 3",
   "language": "python",
   "name": "python3"
  },
  "language_info": {
   "codemirror_mode": {
    "name": "ipython",
    "version": 3
   },
   "file_extension": ".py",
   "mimetype": "text/x-python",
   "name": "python",
   "nbconvert_exporter": "python",
   "pygments_lexer": "ipython3",
   "version": "3.11.4"
  }
 },
 "nbformat": 4,
 "nbformat_minor": 2
}
