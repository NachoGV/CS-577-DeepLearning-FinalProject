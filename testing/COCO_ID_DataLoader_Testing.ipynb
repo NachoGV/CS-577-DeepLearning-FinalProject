{
 "cells": [
  {
   "cell_type": "markdown",
   "metadata": {},
   "source": [
    "# COCO Image DataLoader Testing\n",
    "\n",
    "## Imports"
   ]
  },
  {
   "cell_type": "code",
   "execution_count": 6,
   "metadata": {},
   "outputs": [],
   "source": [
    "# Add Utils to path\n",
    "import sys\n",
    "sys.path.append('../Utils')  # Adds higher directory to python modules path.\n",
    "\n",
    "# Utils\n",
    "from datasets_generators import CocoDetection\n",
    "from plot_coco_image import plot_coco_image\n",
    "\n",
    "# Pytorch\n",
    "from torch.utils.data import DataLoader\n",
    "from transformers import DetrImageProcessor"
   ]
  },
  {
   "cell_type": "markdown",
   "metadata": {},
   "source": [
    "## Load Data"
   ]
  },
  {
   "cell_type": "code",
   "execution_count": 7,
   "metadata": {},
   "outputs": [
    {
     "name": "stdout",
     "output_type": "stream",
     "text": [
      "loading annotations into memory...\n",
      "Done (t=0.03s)\n",
      "creating index...\n",
      "index created!\n",
      "loading annotations into memory...\n",
      "Done (t=0.01s)\n",
      "creating index...\n",
      "index created!\n",
      "loading annotations into memory...\n",
      "Done (t=0.01s)\n",
      "creating index...\n",
      "index created!\n"
     ]
    }
   ],
   "source": [
    "# Paths\n",
    "imgs_path = \"../ExDark_All/Images\"\n",
    "train_path = \"../ExDark_COCO/train_set.json\"\n",
    "val_path = \"../ExDark_COCO/val_set.json\"\n",
    "test_path = \"../ExDark_COCO/test_set.json\"\n",
    "\n",
    "# Transforms\n",
    "image_processor = DetrImageProcessor.from_pretrained(\"facebook/detr-resnet-50\")\n",
    "\n",
    "# COCO Dataset\n",
    "train_set = CocoDetection(image_directory_path=imgs_path,  annotation_file_path=train_path, image_processor=image_processor)\n",
    "val_set = CocoDetection(image_directory_path=imgs_path,  annotation_file_path=val_path, image_processor=image_processor)\n",
    "test_set = CocoDetection(image_directory_path=imgs_path,  annotation_file_path=test_path, image_processor=image_processor)\n",
    "\n",
    "# Collade function\n",
    "def collate_fn(batch):\n",
    "    pixel_values = [item[0] for item in batch]\n",
    "    encoding = image_processor.pad(pixel_values, return_tensors=\"pt\")\n",
    "    labels = [item[1] for item in batch]\n",
    "    return {\n",
    "        'pixel_values': encoding['pixel_values'],\n",
    "        'pixel_mask': encoding['pixel_mask'],\n",
    "        'labels': labels\n",
    "    }\n",
    "\n",
    "# DataLoaders\n",
    "TRAIN_DATALOADER = DataLoader(dataset=train_set, collate_fn=collate_fn, batch_size=32, shuffle=True)\n",
    "VAL_DATALOADER = DataLoader(dataset=val_set, collate_fn=collate_fn, batch_size=32)\n",
    "TEST_DATALOADER = DataLoader(dataset=test_set, collate_fn=collate_fn, batch_size=32)"
   ]
  },
  {
   "cell_type": "code",
   "execution_count": 9,
   "metadata": {},
   "outputs": [
    {
     "name": "stdout",
     "output_type": "stream",
     "text": [
      "torch.Size([32, 3, 1203, 1333])\n"
     ]
    }
   ],
   "source": [
    "batch = next(iter(TRAIN_DATALOADER))\n",
    "print(batch['pixel_values'].shape)"
   ]
  }
 ],
 "metadata": {
  "kernelspec": {
   "display_name": "dl_finalproject",
   "language": "python",
   "name": "python3"
  },
  "language_info": {
   "codemirror_mode": {
    "name": "ipython",
    "version": 3
   },
   "file_extension": ".py",
   "mimetype": "text/x-python",
   "name": "python",
   "nbconvert_exporter": "python",
   "pygments_lexer": "ipython3",
   "version": "3.9.12"
  }
 },
 "nbformat": 4,
 "nbformat_minor": 2
}
