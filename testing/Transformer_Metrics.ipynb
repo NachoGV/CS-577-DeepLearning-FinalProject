{
 "cells": [
  {
   "cell_type": "markdown",
   "metadata": {},
   "source": [
    "# Transformer Metrics\n",
    "\n",
    "## Imports"
   ]
  },
  {
   "cell_type": "code",
   "execution_count": 4,
   "metadata": {},
   "outputs": [],
   "source": [
    "# Add Utils to path\n",
    "import sys\n",
    "sys.path.append('../Utils')  # Adds higher directory to python modules path.\n",
    "\n",
    "# COCO\n",
    "import json\n",
    "from pycocotools.coco import COCO\n",
    "from pycocotools.cocoeval import COCOeval"
   ]
  },
  {
   "cell_type": "markdown",
   "metadata": {},
   "source": [
    "## Load Ground Truth and Prediction Datasets"
   ]
  },
  {
   "cell_type": "code",
   "execution_count": 5,
   "metadata": {},
   "outputs": [
    {
     "name": "stdout",
     "output_type": "stream",
     "text": [
      "loading annotations into memory...\n",
      "Done (t=0.01s)\n",
      "creating index...\n",
      "index created!\n",
      "Loading and preparing results...\n",
      "DONE (t=0.01s)\n",
      "creating index...\n",
      "index created!\n",
      "Ground Truth\n",
      "   {'id': 0, 'image_id': 0, 'category_id': 0, 'bbox': ['109', '23', '92', '97'], 'area': 8924.0, 'iscrowd': 1}\n",
      "   {'id': 1, 'image_id': 0, 'category_id': 10, 'bbox': ['124', '2', '76', '96'], 'area': 7296.0, 'iscrowd': 1}\n",
      "Predictions\n",
      "   {'image_id': 0, 'category_id': 0, 'bbox': [107.70439910888672, 23.385848999023438, 88.33362579345703, 101.31470489501953], 'score': 0.8691835999488831, 'segmentation': [[107.70439910888672, 23.385848999023438, 107.70439910888672, 124.70055389404297, 196.03802490234375, 124.70055389404297, 196.03802490234375, 23.385848999023438]], 'area': 8949.495229571185, 'id': 1, 'iscrowd': 0}\n"
     ]
    }
   ],
   "source": [
    "# Initialize COCO ground truth API\t\n",
    "test_path = '../ExDark_COCO/test_set.json'\n",
    "cocoGt = COCO(test_path)\n",
    "\n",
    "# Initialize COCO predicted API\n",
    "results_path = '../Models/Transformer/lightning_logs/clahe/results.json'\n",
    "results_set = json.load(open(results_path, 'r'))\n",
    "cocoDt = cocoGt.loadRes(results_set['annotations'])\n",
    "\n",
    "# Print for checking\n",
    "i, j = 0, 0\n",
    "print('Ground Truth')\n",
    "while i < len(cocoGt.dataset['annotations']) and cocoGt.dataset['annotations'][i]['image_id'] == 0:\n",
    "    print('  ', cocoGt.dataset['annotations'][i])\n",
    "    i += 1\n",
    "print('Predictions')\n",
    "while j < len(cocoDt.dataset['annotations']) and cocoDt.dataset['annotations'][j]['image_id'] == 0:\n",
    "    print('  ', cocoDt.dataset['annotations'][j])\n",
    "    j += 1\n"
   ]
  },
  {
   "cell_type": "markdown",
   "metadata": {},
   "source": [
    "## Calculate Metrics"
   ]
  },
  {
   "cell_type": "code",
   "execution_count": 6,
   "metadata": {},
   "outputs": [
    {
     "name": "stdout",
     "output_type": "stream",
     "text": [
      "Running per image evaluation...\n",
      "Evaluate annotation type *bbox*\n",
      "DONE (t=1.13s).\n",
      "Accumulating evaluation results...\n",
      "DONE (t=0.22s).\n",
      " Average Precision  (AP) @[ IoU=0.50:0.95 | area=   all | maxDets=100 ] = 0.333\n",
      " Average Precision  (AP) @[ IoU=0.50      | area=   all | maxDets=100 ] = 0.577\n",
      " Average Precision  (AP) @[ IoU=0.75      | area=   all | maxDets=100 ] = 0.338\n",
      " Average Precision  (AP) @[ IoU=0.50:0.95 | area= small | maxDets=100 ] = -1.000\n",
      " Average Precision  (AP) @[ IoU=0.50:0.95 | area=medium | maxDets=100 ] = 0.135\n",
      " Average Precision  (AP) @[ IoU=0.50:0.95 | area= large | maxDets=100 ] = 0.346\n",
      " Average Recall     (AR) @[ IoU=0.50:0.95 | area=   all | maxDets=  1 ] = 0.492\n",
      " Average Recall     (AR) @[ IoU=0.50:0.95 | area=   all | maxDets= 10 ] = 0.498\n",
      " Average Recall     (AR) @[ IoU=0.50:0.95 | area=   all | maxDets=100 ] = 0.498\n",
      " Average Recall     (AR) @[ IoU=0.50:0.95 | area= small | maxDets=100 ] = -1.000\n",
      " Average Recall     (AR) @[ IoU=0.50:0.95 | area=medium | maxDets=100 ] = 0.289\n",
      " Average Recall     (AR) @[ IoU=0.50:0.95 | area= large | maxDets=100 ] = 0.505\n",
      "mAP: 0.3327965139596691\n"
     ]
    }
   ],
   "source": [
    "# Initialize COCOEval with ground truth, predictions, and evaluation type\n",
    "cocoEval = COCOeval(cocoGt, cocoDt, 'bbox')\n",
    "\n",
    "# Evaluate, accumulate, and summarize\n",
    "cocoEval.evaluate()\n",
    "cocoEval.accumulate()\n",
    "cocoEval.summarize()\n",
    "\n",
    "# Print the mean Average Precision (mAP) for all keypoints\n",
    "print('mAP:', cocoEval.stats[0])"
   ]
  }
 ],
 "metadata": {
  "kernelspec": {
   "display_name": "dl_finalproject",
   "language": "python",
   "name": "python3"
  },
  "language_info": {
   "codemirror_mode": {
    "name": "ipython",
    "version": 3
   },
   "file_extension": ".py",
   "mimetype": "text/x-python",
   "name": "python",
   "nbconvert_exporter": "python",
   "pygments_lexer": "ipython3",
   "version": "3.9.12"
  }
 },
 "nbformat": 4,
 "nbformat_minor": 2
}
