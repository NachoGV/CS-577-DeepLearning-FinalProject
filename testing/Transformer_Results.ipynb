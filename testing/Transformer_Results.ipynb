{
 "cells": [
  {
   "cell_type": "code",
   "execution_count": null,
   "metadata": {},
   "outputs": [],
   "source": [
    "model = DetrForObjectDetection.from_pretrained(MODEL_PATH)\n",
    "\n",
    "# Get Image\n",
    "image_ids = test_set.coco.getImgIds()\n",
    "image_id = random.choice(image_ids)\n",
    "image = test_set.coco.loadImgs(image_id)[0]\n",
    "\n",
    "# Load Image\n",
    "img_path = os.path.join(imgs_path, image[\"file_name\"])\n",
    "image = cv2.imread(img_path)\n",
    "\n",
    "# Plor Ground Truth\n",
    "#plot_coco_image(coco_dataset=test_set, imgs_path = \"../ExDark_All/Images\", image_id=image_id)\n",
    "    "
   ]
  },
  {
   "cell_type": "code",
   "execution_count": null,
   "metadata": {},
   "outputs": [],
   "source": [
    "# Predict\n",
    "with torch.no_grad():\n",
    "\n",
    "    # load image and predict\n",
    "    inputs = image_processor(images=image, return_tensors='pt')\n",
    "    outputs = model(**inputs)\n",
    "\n",
    "    # post-process\n",
    "    target_sizes = torch.tensor([image.shape[:2]])\n",
    "    results = image_processor.post_process_object_detection(\n",
    "        outputs=outputs, \n",
    "        threshold=0.001, \n",
    "        target_sizes=target_sizes\n",
    "    )[0]\n",
    "\n",
    "    # Keep best predictions\n",
    "    max_id = np.argmax(results[\"scores\"])\n",
    "    label = results['labels'][max_id]\n",
    "    print(results)\n",
    "    box = np.array(results[\"boxes\"][max_id].unsqueeze(0))[0]\n",
    "    bbox = [int(b) for b in box]\n",
    "    image = Image.fromarray(image)\n",
    "    draw = ImageDraw.Draw(image)\n",
    "    draw.rectangle([bbox[0], bbox[1], bbox[0]+bbox[2], bbox[1]+bbox[3]], width=3)\n",
    "    plt.imshow(image)\n",
    "    plt.show()"
   ]
  }
 ],
 "metadata": {
  "language_info": {
   "name": "python"
  }
 },
 "nbformat": 4,
 "nbformat_minor": 2
}
