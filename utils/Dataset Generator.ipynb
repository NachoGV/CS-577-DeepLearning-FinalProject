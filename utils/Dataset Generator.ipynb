{
 "cells": [
  {
   "cell_type": "markdown",
   "metadata": {},
   "source": [
    "# Dataset Generator\n",
    "\n",
    "## Imports"
   ]
  },
  {
   "cell_type": "code",
   "execution_count": 22,
   "metadata": {},
   "outputs": [],
   "source": [
    "import os\n",
    "import numpy as np\n",
    "import pandas as pd\n",
    "import matplotlib.pyplot as plt"
   ]
  },
  {
   "cell_type": "code",
   "execution_count": 23,
   "metadata": {},
   "outputs": [
    {
     "name": "stdout",
     "output_type": "stream",
     "text": [
      "Total Class Labels in ExDark Dataset: 12\n",
      "Class labels: ['Bicycle', 'Boat', 'Bottle', 'Bus', 'Car', 'Cat', 'Chair', 'Cup', 'Dog', 'Motorbike', 'People', 'Table']\n"
     ]
    }
   ],
   "source": [
    "path = \"ExDark/ExDark\"\n",
    "print(f\"Total Class Labels in ExDark Dataset: {len(os.listdir(path))}\")\n",
    "print(F\"Class labels: {os.listdir(path)}\")"
   ]
  },
  {
   "cell_type": "code",
   "execution_count": 24,
   "metadata": {},
   "outputs": [
    {
     "name": "stdout",
     "output_type": "stream",
     "text": [
      "Total number of images in class Bicycle: 652\n",
      "Total number of images in class Boat: 679\n",
      "Total number of images in class Bottle: 547\n",
      "Total number of images in class Bus: 527\n",
      "Total number of images in class Car: 638\n",
      "Total number of images in class Cat: 735\n",
      "Total number of images in class Chair: 648\n",
      "Total number of images in class Cup: 519\n",
      "Total number of images in class Dog: 801\n",
      "Total number of images in class Motorbike: 503\n",
      "Total number of images in class People: 609\n",
      "Total number of images in class Table: 505\n",
      "Total number of images in all classes: 7363\n"
     ]
    }
   ],
   "source": [
    "tot_count = 0\n",
    "\n",
    "for i in os.listdir(path):\n",
    "    class_img_count = 0\n",
    "    for j in os.listdir(f\"{path}/{i}\"):\n",
    "        tot_count += 1\n",
    "        class_img_count += 1\n",
    "    print(f\"Total number of images in class {i}: {class_img_count}\")\n",
    "    \n",
    "print(f\"Total number of images in all classes: {tot_count}\")"
   ]
  },
  {
   "cell_type": "code",
   "execution_count": 25,
   "metadata": {},
   "outputs": [],
   "source": [
    "train_imgs = []\n",
    "valid_imgs = []\n",
    "test_imgs = []\n",
    "\n",
    "for i in os.listdir(path):\n",
    "    class_list = os.listdir(f\"{path}/{i}\")\n",
    "    train_imgs.append([i, np.array(class_list[:250])])\n",
    "    valid_imgs.append([i, np.array(class_list[250: 400])])\n",
    "    test_imgs.append([i, np.array(class_list[400:])])"
   ]
  },
  {
   "cell_type": "code",
   "execution_count": 26,
   "metadata": {},
   "outputs": [
    {
     "ename": "FileNotFoundError",
     "evalue": "[Errno 2] No such file or directory: 'ExDark_Annno/ExDark_Annno/Bicycle/2015_00108.jpg'",
     "output_type": "error",
     "traceback": [
      "\u001b[1;31m---------------------------------------------------------------------------\u001b[0m",
      "\u001b[1;31mFileNotFoundError\u001b[0m                         Traceback (most recent call last)",
      "\u001b[1;32mc:\\Users\\ignac\\OneDrive\\Documents\\Master_IIT\\CS-577-DL\\Project\\CS-577-DeepLearning-FinalProject\\Dataset Generator.ipynb Cell 5\u001b[0m line \u001b[0;36m3\n\u001b[0;32m      <a href='vscode-notebook-cell:/c%3A/Users/ignac/OneDrive/Documents/Master_IIT/CS-577-DL/Project/CS-577-DeepLearning-FinalProject/Dataset%20Generator.ipynb#W4sZmlsZQ%3D%3D?line=0'>1</a>\u001b[0m file_path \u001b[39m=\u001b[39m \u001b[39m\"\u001b[39m\u001b[39mExDark_Annno/ExDark_Annno/Bicycle/2015_00108.jpg\u001b[39m\u001b[39m\"\u001b[39m\n\u001b[0;32m      <a href='vscode-notebook-cell:/c%3A/Users/ignac/OneDrive/Documents/Master_IIT/CS-577-DL/Project/CS-577-DeepLearning-FinalProject/Dataset%20Generator.ipynb#W4sZmlsZQ%3D%3D?line=1'>2</a>\u001b[0m img_list \u001b[39m=\u001b[39m []\n\u001b[1;32m----> <a href='vscode-notebook-cell:/c%3A/Users/ignac/OneDrive/Documents/Master_IIT/CS-577-DL/Project/CS-577-DeepLearning-FinalProject/Dataset%20Generator.ipynb#W4sZmlsZQ%3D%3D?line=2'>3</a>\u001b[0m \u001b[39mwith\u001b[39;00m \u001b[39mopen\u001b[39;49m(file_path) \u001b[39mas\u001b[39;00m f:\n\u001b[0;32m      <a href='vscode-notebook-cell:/c%3A/Users/ignac/OneDrive/Documents/Master_IIT/CS-577-DL/Project/CS-577-DeepLearning-FinalProject/Dataset%20Generator.ipynb#W4sZmlsZQ%3D%3D?line=3'>4</a>\u001b[0m     lines \u001b[39m=\u001b[39m f\u001b[39m.\u001b[39mreadlines()\n\u001b[0;32m      <a href='vscode-notebook-cell:/c%3A/Users/ignac/OneDrive/Documents/Master_IIT/CS-577-DL/Project/CS-577-DeepLearning-FinalProject/Dataset%20Generator.ipynb#W4sZmlsZQ%3D%3D?line=4'>5</a>\u001b[0m     \u001b[39mfor\u001b[39;00m i \u001b[39min\u001b[39;00m lines[\u001b[39m1\u001b[39m:]:\n",
      "File \u001b[1;32mc:\\Users\\ignac\\anaconda3\\envs\\dl_finalproject\\lib\\site-packages\\IPython\\core\\interactiveshell.py:286\u001b[0m, in \u001b[0;36m_modified_open\u001b[1;34m(file, *args, **kwargs)\u001b[0m\n\u001b[0;32m    279\u001b[0m \u001b[39mif\u001b[39;00m file \u001b[39min\u001b[39;00m {\u001b[39m0\u001b[39m, \u001b[39m1\u001b[39m, \u001b[39m2\u001b[39m}:\n\u001b[0;32m    280\u001b[0m     \u001b[39mraise\u001b[39;00m \u001b[39mValueError\u001b[39;00m(\n\u001b[0;32m    281\u001b[0m         \u001b[39mf\u001b[39m\u001b[39m\"\u001b[39m\u001b[39mIPython won\u001b[39m\u001b[39m'\u001b[39m\u001b[39mt let you open fd=\u001b[39m\u001b[39m{\u001b[39;00mfile\u001b[39m}\u001b[39;00m\u001b[39m by default \u001b[39m\u001b[39m\"\u001b[39m\n\u001b[0;32m    282\u001b[0m         \u001b[39m\"\u001b[39m\u001b[39mas it is likely to crash IPython. If you know what you are doing, \u001b[39m\u001b[39m\"\u001b[39m\n\u001b[0;32m    283\u001b[0m         \u001b[39m\"\u001b[39m\u001b[39myou can use builtins\u001b[39m\u001b[39m'\u001b[39m\u001b[39m open.\u001b[39m\u001b[39m\"\u001b[39m\n\u001b[0;32m    284\u001b[0m     )\n\u001b[1;32m--> 286\u001b[0m \u001b[39mreturn\u001b[39;00m io_open(file, \u001b[39m*\u001b[39margs, \u001b[39m*\u001b[39m\u001b[39m*\u001b[39mkwargs)\n",
      "\u001b[1;31mFileNotFoundError\u001b[0m: [Errno 2] No such file or directory: 'ExDark_Annno/ExDark_Annno/Bicycle/2015_00108.jpg'"
     ]
    }
   ],
   "source": [
    "file_path = \"ExDark_Annno/ExDark_Annno/Bicycle/2015_00108.jpg.txt\"\n",
    "img_list = []\n",
    "with open(file_path) as f:\n",
    "    lines = f.readlines()\n",
    "    for i in lines[1:]:\n",
    "        print(i.split(\" \")[:5])\n",
    "        img_list.append([\"2015_00108.jpg\"] + i.split(\" \")[:5])"
   ]
  },
  {
   "cell_type": "code",
   "execution_count": null,
   "metadata": {},
   "outputs": [
    {
     "ename": "UnicodeDecodeError",
     "evalue": "'utf-8' codec can't decode byte 0x89 in position 0: invalid start byte",
     "output_type": "error",
     "traceback": [
      "\u001b[1;31m---------------------------------------------------------------------------\u001b[0m",
      "\u001b[1;31mUnicodeDecodeError\u001b[0m                        Traceback (most recent call last)",
      "\u001b[1;32mc:\\Users\\ignac\\OneDrive\\Documents\\Master_IIT\\CS-577-DL\\Project\\CS-577-DeepLearning-FinalProject\\Dataset Generator.ipynb Cell 6\u001b[0m line \u001b[0;36m8\n\u001b[0;32m      <a href='vscode-notebook-cell:/c%3A/Users/ignac/OneDrive/Documents/Master_IIT/CS-577-DL/Project/CS-577-DeepLearning-FinalProject/Dataset%20Generator.ipynb#W5sZmlsZQ%3D%3D?line=5'>6</a>\u001b[0m img_list \u001b[39m=\u001b[39m []\n\u001b[0;32m      <a href='vscode-notebook-cell:/c%3A/Users/ignac/OneDrive/Documents/Master_IIT/CS-577-DL/Project/CS-577-DeepLearning-FinalProject/Dataset%20Generator.ipynb#W5sZmlsZQ%3D%3D?line=6'>7</a>\u001b[0m \u001b[39mwith\u001b[39;00m \u001b[39mopen\u001b[39m(file_path) \u001b[39mas\u001b[39;00m f:\n\u001b[1;32m----> <a href='vscode-notebook-cell:/c%3A/Users/ignac/OneDrive/Documents/Master_IIT/CS-577-DL/Project/CS-577-DeepLearning-FinalProject/Dataset%20Generator.ipynb#W5sZmlsZQ%3D%3D?line=7'>8</a>\u001b[0m     lines \u001b[39m=\u001b[39m f\u001b[39m.\u001b[39;49mreadlines()\n\u001b[0;32m      <a href='vscode-notebook-cell:/c%3A/Users/ignac/OneDrive/Documents/Master_IIT/CS-577-DL/Project/CS-577-DeepLearning-FinalProject/Dataset%20Generator.ipynb#W5sZmlsZQ%3D%3D?line=8'>9</a>\u001b[0m     \u001b[39mfor\u001b[39;00m i \u001b[39min\u001b[39;00m lines[\u001b[39m1\u001b[39m:]:\n\u001b[0;32m     <a href='vscode-notebook-cell:/c%3A/Users/ignac/OneDrive/Documents/Master_IIT/CS-577-DL/Project/CS-577-DeepLearning-FinalProject/Dataset%20Generator.ipynb#W5sZmlsZQ%3D%3D?line=9'>10</a>\u001b[0m         img_list\u001b[39m.\u001b[39mappend([annot[:\u001b[39m-\u001b[39m\u001b[39m4\u001b[39m]] \u001b[39m+\u001b[39m i\u001b[39m.\u001b[39msplit(\u001b[39m\"\u001b[39m\u001b[39m \u001b[39m\u001b[39m\"\u001b[39m)[:\u001b[39m5\u001b[39m])\n",
      "File \u001b[1;32mc:\\Users\\ignac\\anaconda3\\envs\\dl_finalproject\\lib\\codecs.py:322\u001b[0m, in \u001b[0;36mBufferedIncrementalDecoder.decode\u001b[1;34m(self, input, final)\u001b[0m\n\u001b[0;32m    319\u001b[0m \u001b[39mdef\u001b[39;00m \u001b[39mdecode\u001b[39m(\u001b[39mself\u001b[39m, \u001b[39minput\u001b[39m, final\u001b[39m=\u001b[39m\u001b[39mFalse\u001b[39;00m):\n\u001b[0;32m    320\u001b[0m     \u001b[39m# decode input (taking the buffer into account)\u001b[39;00m\n\u001b[0;32m    321\u001b[0m     data \u001b[39m=\u001b[39m \u001b[39mself\u001b[39m\u001b[39m.\u001b[39mbuffer \u001b[39m+\u001b[39m \u001b[39minput\u001b[39m\n\u001b[1;32m--> 322\u001b[0m     (result, consumed) \u001b[39m=\u001b[39m \u001b[39mself\u001b[39;49m\u001b[39m.\u001b[39;49m_buffer_decode(data, \u001b[39mself\u001b[39;49m\u001b[39m.\u001b[39;49merrors, final)\n\u001b[0;32m    323\u001b[0m     \u001b[39m# keep undecoded input until the next call\u001b[39;00m\n\u001b[0;32m    324\u001b[0m     \u001b[39mself\u001b[39m\u001b[39m.\u001b[39mbuffer \u001b[39m=\u001b[39m data[consumed:]\n",
      "\u001b[1;31mUnicodeDecodeError\u001b[0m: 'utf-8' codec can't decode byte 0x89 in position 0: invalid start byte"
     ]
    }
   ],
   "source": [
    "train_data = []\n",
    "for class_wise_train_imgs in train_imgs:\n",
    "    class_label = class_wise_train_imgs[0]\n",
    "    for annot in class_wise_train_imgs[1]:\n",
    "        file_path = f\"{path}/{class_label}/{annot}\"\n",
    "        img_list = []\n",
    "        with open(file_path) as f:\n",
    "            lines = f.readlines()\n",
    "            for i in lines[1:]:\n",
    "                img_list.append([annot[:-4]] + i.split(\" \")[:5])\n",
    "        train_data.extend(img_list)\n",
    "\n",
    "valid_data = []\n",
    "for class_wise_valid_imgs in valid_imgs:\n",
    "    class_label = class_wise_valid_imgs[0]\n",
    "    for annot in class_wise_valid_imgs[1]:\n",
    "        file_path = f\"{path}/{class_label}/{annot}\"\n",
    "        img_list = []\n",
    "        with open(file_path) as f:\n",
    "            lines = f.readlines()\n",
    "            for i in lines[1:]:\n",
    "                img_list.append([annot[:-4]] + i.split(\" \")[:5])\n",
    "        valid_data.extend(img_list)\n",
    "\n",
    "test_data = []\n",
    "for class_wise_test_imgs in test_imgs:\n",
    "    class_label = class_wise_test_imgs[0]\n",
    "    for annot in class_wise_test_imgs[1]:\n",
    "        file_path = f\"{path}/{class_label}/{annot}\"\n",
    "        # print(file_path)\n",
    "        img_list = []\n",
    "        with open(file_path) as f:\n",
    "            lines = f.readlines()\n",
    "            for i in lines[1:]:\n",
    "                img_list.append([annot[:-4]] + i.split(\" \")[:5])\n",
    "        test_data.extend(img_list)"
   ]
  },
  {
   "cell_type": "code",
   "execution_count": null,
   "metadata": {},
   "outputs": [
    {
     "data": {
      "text/html": [
       "<div>\n",
       "<style scoped>\n",
       "    .dataframe tbody tr th:only-of-type {\n",
       "        vertical-align: middle;\n",
       "    }\n",
       "\n",
       "    .dataframe tbody tr th {\n",
       "        vertical-align: top;\n",
       "    }\n",
       "\n",
       "    .dataframe thead th {\n",
       "        text-align: right;\n",
       "    }\n",
       "</style>\n",
       "<table border=\"1\" class=\"dataframe\">\n",
       "  <thead>\n",
       "    <tr style=\"text-align: right;\">\n",
       "      <th></th>\n",
       "      <th>Image_id</th>\n",
       "      <th>Label</th>\n",
       "      <th>x1</th>\n",
       "      <th>y1</th>\n",
       "      <th>w</th>\n",
       "      <th>h</th>\n",
       "    </tr>\n",
       "  </thead>\n",
       "  <tbody>\n",
       "    <tr>\n",
       "      <th>0</th>\n",
       "      <td>2015_00001.png</td>\n",
       "      <td>Bicycle</td>\n",
       "      <td>204</td>\n",
       "      <td>28</td>\n",
       "      <td>271</td>\n",
       "      <td>193</td>\n",
       "    </tr>\n",
       "    <tr>\n",
       "      <th>1</th>\n",
       "      <td>2015_00002.png</td>\n",
       "      <td>Bicycle</td>\n",
       "      <td>136</td>\n",
       "      <td>190</td>\n",
       "      <td>79</td>\n",
       "      <td>109</td>\n",
       "    </tr>\n",
       "    <tr>\n",
       "      <th>2</th>\n",
       "      <td>2015_00002.png</td>\n",
       "      <td>Bicycle</td>\n",
       "      <td>219</td>\n",
       "      <td>172</td>\n",
       "      <td>63</td>\n",
       "      <td>131</td>\n",
       "    </tr>\n",
       "    <tr>\n",
       "      <th>3</th>\n",
       "      <td>2015_00002.png</td>\n",
       "      <td>Bicycle</td>\n",
       "      <td>277</td>\n",
       "      <td>188</td>\n",
       "      <td>76</td>\n",
       "      <td>124</td>\n",
       "    </tr>\n",
       "    <tr>\n",
       "      <th>4</th>\n",
       "      <td>2015_00002.png</td>\n",
       "      <td>Bicycle</td>\n",
       "      <td>348</td>\n",
       "      <td>183</td>\n",
       "      <td>57</td>\n",
       "      <td>81</td>\n",
       "    </tr>\n",
       "  </tbody>\n",
       "</table>\n",
       "</div>"
      ],
      "text/plain": [
       "         Image_id    Label   x1   y1    w    h\n",
       "0  2015_00001.png  Bicycle  204   28  271  193\n",
       "1  2015_00002.png  Bicycle  136  190   79  109\n",
       "2  2015_00002.png  Bicycle  219  172   63  131\n",
       "3  2015_00002.png  Bicycle  277  188   76  124\n",
       "4  2015_00002.png  Bicycle  348  183   57   81"
      ]
     },
     "execution_count": 142,
     "metadata": {},
     "output_type": "execute_result"
    }
   ],
   "source": [
    "train_data = pd.DataFrame(train_data, columns = [\"Image_id\", \"Label\", \"x1\", \"y1\", \"w\", \"h\"])\n",
    "valid_data = pd.DataFrame(valid_data, columns = [\"Image_id\", \"Label\", \"x1\", \"y1\", \"w\", \"h\"])\n",
    "test_data = pd.DataFrame(test_data, columns = [\"Image_id\", \"Label\", \"x1\", \"y1\", \"w\", \"h\"])\n",
    "\n",
    "train_data.head(5)"
   ]
  },
  {
   "cell_type": "code",
   "execution_count": null,
   "metadata": {},
   "outputs": [],
   "source": [
    "train_data.to_excel(\"exdark_train.xlsx\", index=False)\n",
    "valid_data.to_excel(\"exdark_validation.xlsx\", index=False)\n",
    "test_data.to_excel(\"exdark_test.xlsx\", index=False)"
   ]
  }
 ],
 "metadata": {
  "kernelspec": {
   "display_name": "Python 3",
   "language": "python",
   "name": "python3"
  },
  "language_info": {
   "codemirror_mode": {
    "name": "ipython",
    "version": 3
   },
   "file_extension": ".py",
   "mimetype": "text/x-python",
   "name": "python",
   "nbconvert_exporter": "python",
   "pygments_lexer": "ipython3",
   "version": "3.9.18"
  }
 },
 "nbformat": 4,
 "nbformat_minor": 2
}
