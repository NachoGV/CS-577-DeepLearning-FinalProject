{
 "cells": [
  {
   "cell_type": "markdown",
   "metadata": {},
   "source": [
    "# SSD Model\n",
    "\n",
    "## Imports"
   ]
  },
  {
   "cell_type": "code",
   "execution_count": 6,
   "metadata": {},
   "outputs": [],
   "source": [
    "import os\n",
    "import torch"
   ]
  },
  {
   "cell_type": "markdown",
   "metadata": {},
   "source": [
    "## Check if GPU is available"
   ]
  },
  {
   "cell_type": "code",
   "execution_count": 7,
   "metadata": {},
   "outputs": [
    {
     "name": "stdout",
     "output_type": "stream",
     "text": [
      "2.1.0+cu121\n",
      "cuda\n"
     ]
    }
   ],
   "source": [
    "print(torch.__version__)\n",
    "\n",
    "# Check if GPU is available\n",
    "if torch.cuda.is_available():\n",
    "    device = torch.device('cuda')\n",
    "else:\n",
    "    device = torch.device('cpu')\n",
    "\n",
    "print(device)"
   ]
  },
  {
   "cell_type": "markdown",
   "metadata": {},
   "source": [
    "## Dataset"
   ]
  },
  {
   "cell_type": "code",
   "execution_count": 8,
   "metadata": {},
   "outputs": [],
   "source": [
    "# Paths\n",
    "imgs_path = \"../ExDark_All/Images\"\n",
    "train_path = \"../ExDark_COCO/intended/train_set.json\"\n",
    "val_path = \"../ExDark_COCO/intended/val_set.json\"\n",
    "test_path = \"../ExDark_COCO/intended/test_set.json\""
   ]
  },
  {
   "cell_type": "markdown",
   "metadata": {},
   "source": [
    "## SSD Model"
   ]
  },
  {
   "cell_type": "code",
   "execution_count": 9,
   "metadata": {},
   "outputs": [
    {
     "name": "stderr",
     "output_type": "stream",
     "text": [
      "c:\\Users\\ignac\\anaconda3\\envs\\dl_finalproject\\lib\\site-packages\\torch\\hub.py:294: UserWarning: You are about to download and run code from an untrusted repository. In a future release, this won't be allowed. To add the repository to your trusted list, change the command to {calling_fn}(..., trust_repo=False) and a command prompt will appear asking for an explicit confirmation of trust, or load(..., trust_repo=True), which will assume that the prompt is to be answered with 'yes'. You can also use load(..., trust_repo='check') which will only prompt for confirmation if the repo is not already trusted. This will eventually be the default behaviour\n",
      "  warnings.warn(\n",
      "Downloading: \"https://github.com/NVIDIA/DeepLearningExamples/zipball/torchhub\" to C:\\Users\\ignac/.cache\\torch\\hub\\torchhub.zip\n",
      "C:\\Users\\ignac/.cache\\torch\\hub\\NVIDIA_DeepLearningExamples_torchhub\\PyTorch\\Classification\\ConvNets\\image_classification\\models\\common.py:13: UserWarning: pytorch_quantization module not found, quantization will not be available\n",
      "  warnings.warn(\n",
      "C:\\Users\\ignac/.cache\\torch\\hub\\NVIDIA_DeepLearningExamples_torchhub\\PyTorch\\Classification\\ConvNets\\image_classification\\models\\efficientnet.py:17: UserWarning: pytorch_quantization module not found, quantization will not be available\n",
      "  warnings.warn(\n",
      "Downloading checkpoint from https://api.ngc.nvidia.com/v2/models/nvidia/ssd_pyt_ckpt_amp/versions/20.06.0/files/nvidia_ssdpyt_amp_200703.pt\n",
      "Using cache found in C:\\Users\\ignac/.cache\\torch\\hub\\NVIDIA_DeepLearningExamples_torchhub\n"
     ]
    },
    {
     "ename": "ValueError",
     "evalue": "setting an array element with a sequence. The requested array has an inhomogeneous shape after 3 dimensions. The detected shape was (7361, 300, 300) + inhomogeneous part.",
     "output_type": "error",
     "traceback": [
      "\u001b[1;31m---------------------------------------------------------------------------\u001b[0m",
      "\u001b[1;31mValueError\u001b[0m                                Traceback (most recent call last)",
      "\u001b[1;32mc:\\Users\\ignac\\OneDrive\\Documents\\Master_IIT\\CS-577-DL\\Project\\CS-577-DeepLearning-FinalProject\\Models\\SSD.ipynb Cell 8\u001b[0m line \u001b[0;36m9\n\u001b[0;32m      <a href='vscode-notebook-cell:/c%3A/Users/ignac/OneDrive/Documents/Master_IIT/CS-577-DL/Project/CS-577-DeepLearning-FinalProject/Models/SSD.ipynb#W2sZmlsZQ%3D%3D?line=5'>6</a>\u001b[0m ssd_model\u001b[39m.\u001b[39meval()\n\u001b[0;32m      <a href='vscode-notebook-cell:/c%3A/Users/ignac/OneDrive/Documents/Master_IIT/CS-577-DL/Project/CS-577-DeepLearning-FinalProject/Models/SSD.ipynb#W2sZmlsZQ%3D%3D?line=7'>8</a>\u001b[0m inputs \u001b[39m=\u001b[39m [utils\u001b[39m.\u001b[39mprepare_input(os\u001b[39m.\u001b[39mpath\u001b[39m.\u001b[39mjoin(imgs_path, uri)) \u001b[39mfor\u001b[39;00m uri \u001b[39min\u001b[39;00m os\u001b[39m.\u001b[39mlistdir(imgs_path)]\n\u001b[1;32m----> <a href='vscode-notebook-cell:/c%3A/Users/ignac/OneDrive/Documents/Master_IIT/CS-577-DL/Project/CS-577-DeepLearning-FinalProject/Models/SSD.ipynb#W2sZmlsZQ%3D%3D?line=8'>9</a>\u001b[0m tensor \u001b[39m=\u001b[39m utils\u001b[39m.\u001b[39;49mprepare_tensor(inputs)\n\u001b[0;32m     <a href='vscode-notebook-cell:/c%3A/Users/ignac/OneDrive/Documents/Master_IIT/CS-577-DL/Project/CS-577-DeepLearning-FinalProject/Models/SSD.ipynb#W2sZmlsZQ%3D%3D?line=10'>11</a>\u001b[0m \u001b[39mwith\u001b[39;00m torch\u001b[39m.\u001b[39mno_grad():\n\u001b[0;32m     <a href='vscode-notebook-cell:/c%3A/Users/ignac/OneDrive/Documents/Master_IIT/CS-577-DL/Project/CS-577-DeepLearning-FinalProject/Models/SSD.ipynb#W2sZmlsZQ%3D%3D?line=11'>12</a>\u001b[0m     detections_batch \u001b[39m=\u001b[39m ssd_model(tensor)\n",
      "File \u001b[1;32m~/.cache\\torch\\hub\\NVIDIA_DeepLearningExamples_torchhub\\PyTorch\\Detection\\SSD\\ssd\\entrypoints.py:109\u001b[0m, in \u001b[0;36mnvidia_ssd_processing_utils.<locals>.Processing.prepare_tensor\u001b[1;34m(inputs, fp16)\u001b[0m\n\u001b[0;32m    107\u001b[0m \u001b[39m@staticmethod\u001b[39m\n\u001b[0;32m    108\u001b[0m \u001b[39mdef\u001b[39;00m \u001b[39mprepare_tensor\u001b[39m(inputs, fp16\u001b[39m=\u001b[39m\u001b[39mFalse\u001b[39;00m):\n\u001b[1;32m--> 109\u001b[0m     NHWC \u001b[39m=\u001b[39m np\u001b[39m.\u001b[39;49marray(inputs)\n\u001b[0;32m    110\u001b[0m     NCHW \u001b[39m=\u001b[39m np\u001b[39m.\u001b[39mswapaxes(np\u001b[39m.\u001b[39mswapaxes(NHWC, \u001b[39m1\u001b[39m, \u001b[39m3\u001b[39m), \u001b[39m2\u001b[39m, \u001b[39m3\u001b[39m)\n\u001b[0;32m    111\u001b[0m     tensor \u001b[39m=\u001b[39m torch\u001b[39m.\u001b[39mfrom_numpy(NCHW)\n",
      "\u001b[1;31mValueError\u001b[0m: setting an array element with a sequence. The requested array has an inhomogeneous shape after 3 dimensions. The detected shape was (7361, 300, 300) + inhomogeneous part."
     ]
    }
   ],
   "source": [
    "ssd_model = torch.hub.load('NVIDIA/DeepLearningExamples:torchhub', 'nvidia_ssd')\n",
    "\n",
    "utils = torch.hub.load('NVIDIA/DeepLearningExamples:torchhub', 'nvidia_ssd_processing_utils')\n",
    "\n",
    "ssd_model.to('cuda')\n",
    "ssd_model.eval()\n",
    "\n",
    "inputs = [utils.prepare_input(os.path.join(imgs_path, uri)) for uri in os.listdir(imgs_path)]\n",
    "tensor = utils.prepare_tensor(inputs)\n",
    "\n",
    "with torch.no_grad():\n",
    "    detections_batch = ssd_model(tensor)\n",
    "\n",
    "results_per_input = utils.decode_results(detections_batch)\n",
    "best_results_per_input = [utils.pick_best(results, 0.40) for results in results_per_input]\n",
    "\n",
    "classes_to_labels = utils.get_coco_object_dictionary()\n",
    "\n",
    "from matplotlib import pyplot as plt\n",
    "import matplotlib.patches as patches\n",
    "\n",
    "for image_idx in range(len(best_results_per_input)):\n",
    "    fig, ax = plt.subplots(1)\n",
    "    # Show original, denormalized image...\n",
    "    image = inputs[image_idx] / 2 + 0.5\n",
    "    ax.imshow(image)\n",
    "    # ...with detections\n",
    "    bboxes, classes, confidences = best_results_per_input[image_idx]\n",
    "    for idx in range(len(bboxes)):\n",
    "        left, bot, right, top = bboxes[idx]\n",
    "        x, y, w, h = [val * 300 for val in [left, bot, right - left, top - bot]]\n",
    "        rect = patches.Rectangle((x, y), w, h, linewidth=1, edgecolor='r', facecolor='none')\n",
    "        ax.add_patch(rect)\n",
    "        ax.text(x, y, \"{} {:.0f}%\".format(classes_to_labels[classes[idx] - 1], confidences[idx]*100), bbox=dict(facecolor='white', alpha=0.5))\n",
    "plt.show()"
   ]
  }
 ],
 "metadata": {
  "kernelspec": {
   "display_name": "dl_finalproject",
   "language": "python",
   "name": "python3"
  },
  "language_info": {
   "codemirror_mode": {
    "name": "ipython",
    "version": 3
   },
   "file_extension": ".py",
   "mimetype": "text/x-python",
   "name": "python",
   "nbconvert_exporter": "python",
   "pygments_lexer": "ipython3",
   "version": "3.9.12"
  }
 },
 "nbformat": 4,
 "nbformat_minor": 2
}
